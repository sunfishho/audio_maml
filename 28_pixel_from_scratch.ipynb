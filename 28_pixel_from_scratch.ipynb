{
 "cells": [
  {
   "cell_type": "code",
   "execution_count": 2,
   "id": "44c0e935-00f5-4268-bcdd-36d265c1b3d3",
   "metadata": {},
   "outputs": [],
   "source": [
    "from learner import Learner\n",
    "\n",
    "import os\n",
    "\n",
    "import warnings\n",
    "warnings.filterwarnings(action='ignore')\n",
    "\n",
    "import pandas as pd\n",
    "import librosa\n",
    "import numpy as np\n",
    "import torch\n",
    "from PIL import Image\n",
    "from sklearn.utils import shuffle\n",
    "from tqdm import tqdm\n",
    "from copy import deepcopy\n",
    "import matplotlib.pyplot as plt\n",
    "import torch.nn as nn\n",
    "import torch.optim as optim\n",
    "import torch.nn.functional as F\n",
    "import random"
   ]
  },
  {
   "cell_type": "code",
   "execution_count": 4,
   "id": "5e672a23-55cb-4c33-b27e-2117ba8c460a",
   "metadata": {},
   "outputs": [],
   "source": [
    "config = [\n",
    "    ('conv2d', [32, 1, 7, 7, 1, 3]),\n",
    "    ('relu', [True]),\n",
    "    ('bn', [32]),\n",
    "    ('conv2d', [16, 32, 5, 5, 1, 2]),\n",
    "    ('relu', [True]),\n",
    "    ('bn', [16]),\n",
    "    ('conv2d', [8, 16, 3, 3, 1, 1]),\n",
    "    ('relu', [True]),\n",
    "    ('bn', [8]),\n",
    "    ('flatten', []),\n",
    "    ('linear', [5, 8 * 28 * 28])\n",
    "]"
   ]
  },
  {
   "cell_type": "code",
   "execution_count": 5,
   "id": "2eede263-a977-4a56-b9a8-d5330ae6616f",
   "metadata": {},
   "outputs": [
    {
     "name": "stdout",
     "output_type": "stream",
     "text": [
      "DB: train (99, 100, 28, 28, 1) test (33, 100, 28, 28, 1)\n"
     ]
    }
   ],
   "source": [
    "from birdCallNShot import BirdCallNShot\n",
    "\n",
    "db_train = BirdCallNShot('birdCall',\n",
    "                       batchsz=32,\n",
    "                       n_way=5,\n",
    "                       k_shot=80,\n",
    "                       k_query=20,\n",
    "                       imgsz = 28)"
   ]
  },
  {
   "cell_type": "code",
   "execution_count": 21,
   "id": "9e510a8d-7c18-4445-8dbb-11473012e6b9",
   "metadata": {},
   "outputs": [],
   "source": [
    "x_spt, y_spt, x_qry, y_qry = map(lambda x: torch.from_numpy(x).to(torch.device('cpu')), db_train.next())\n",
    "device = torch.device('cpu')"
   ]
  },
  {
   "cell_type": "code",
   "execution_count": 18,
   "id": "339c6e48-f68e-4133-bded-87892894a5ea",
   "metadata": {},
   "outputs": [
    {
     "data": {
      "text/plain": [
       "torch.Size([32, 400, 1, 28, 28])"
      ]
     },
     "execution_count": 18,
     "metadata": {},
     "output_type": "execute_result"
    }
   ],
   "source": [
    "x_spt.shape"
   ]
  },
  {
   "cell_type": "code",
   "execution_count": 28,
   "id": "3d9c0a12-5db9-4e69-9f89-3bab21769a78",
   "metadata": {},
   "outputs": [],
   "source": [
    "def check_accuracy(data, labels, model, idx = 0):\n",
    "    # print('Checking accuracy on set')   \n",
    "    num_correct = 0\n",
    "    num_samples = 0\n",
    "    num_data_points = data.shape[0]\n",
    "    \n",
    "    model.eval()  # set model to evaluation mode\n",
    "    with torch.no_grad():\n",
    "        x, y = data[idx], labels[idx]\n",
    "        x = x.to(device=torch.device(\"cpu\"), dtype=torch.float32)  # move to device, e.g. GPU\n",
    "        y = y.to(device=torch.device(\"cpu\"), dtype=torch.long)\n",
    "        scores = model(x)\n",
    "        _, preds = scores.max(1)\n",
    "        num_correct += (preds == y).sum()\n",
    "        num_samples += preds.size(0)\n",
    "        acc = float(num_correct) / num_samples\n",
    "        # print('Got %d / %d correct (%.2f)' % (num_correct, num_samples, 100 * acc))\n",
    "        return acc\n",
    "        \n",
    "def train(data, labels, model, optimizer, epochs=50, idx = 0):\n",
    "    model = model.to(device=torch.device(\"cpu\"))  # move the model parameters to CPU/GPU    \n",
    "    test_accuracies = []\n",
    "    for e in range(epochs):\n",
    "        # print(f\"Epoch number: {e}\")\n",
    "        x, y = data[idx], labels[idx]\n",
    "        model.train()  # put model to training mode\n",
    "        x = x.to(device=device, dtype=torch.float32)  # move to device, e.g. GPU\n",
    "        y = y.to(device=device, dtype=torch.long)\n",
    "\n",
    "        scores = model(x)\n",
    "        loss = F.cross_entropy(scores, y)\n",
    "\n",
    "        # Zero out all of the gradients for the variables which the optimizer\n",
    "        # will update.\n",
    "        optimizer.zero_grad()\n",
    "\n",
    "        # This is the backwards pass: compute the gradient of the loss with\n",
    "        # respect to each  parameter of the model.\n",
    "        loss.backward()\n",
    "\n",
    "        # Actually update the parameters of the model using the gradients\n",
    "        # computed by the backwards pass.\n",
    "        \n",
    "        \n",
    "        optimizer.step()\n",
    "\n",
    "        param_idx = 0\n",
    "        \n",
    "        test_accuracies.append(check_accuracy(x_qry, y_qry, model, idx))\n",
    "    return test_accuracies"
   ]
  },
  {
   "cell_type": "code",
   "execution_count": 35,
   "id": "15e6b95f-1642-436c-bb70-edc3c04f13fe",
   "metadata": {},
   "outputs": [
    {
     "name": "stdout",
     "output_type": "stream",
     "text": [
      "On iteration 0\n",
      "On iteration 1\n",
      "On iteration 2\n",
      "On iteration 3\n",
      "On iteration 4\n",
      "On iteration 5\n",
      "On iteration 6\n",
      "On iteration 7\n",
      "On iteration 8\n",
      "On iteration 9\n",
      "On iteration 10\n",
      "On iteration 11\n",
      "On iteration 12\n",
      "On iteration 13\n",
      "On iteration 14\n",
      "On iteration 15\n",
      "On iteration 16\n",
      "On iteration 17\n",
      "On iteration 18\n",
      "On iteration 19\n",
      "On iteration 20\n",
      "On iteration 21\n",
      "On iteration 22\n",
      "On iteration 23\n",
      "On iteration 24\n",
      "On iteration 25\n",
      "On iteration 26\n",
      "On iteration 27\n",
      "On iteration 28\n",
      "On iteration 29\n",
      "On iteration 30\n",
      "On iteration 31\n"
     ]
    }
   ],
   "source": [
    "lr = 0.001\n",
    "\n",
    "models = []\n",
    "models = [Learner(config, 1, 28) for _ in range(32)]\n",
    "test_accs = []\n",
    "for idx in range(32):\n",
    "    print(f\"On iteration {idx}\")\n",
    "    models[idx].eval()\n",
    "    optimizer = optim.SGD(models[idx].parameters(), lr=lr, momentum=0.9, nesterov=True)\n",
    "    test_accs.append(train(x_spt, y_spt, models[idx], optimizer, epochs = 50, idx = idx))\n",
    "\n",
    "avg_test_accuracies = np.average(np.array(test_accs), axis = 0)"
   ]
  },
  {
   "cell_type": "code",
   "execution_count": 36,
   "id": "ee7619c0-a2b9-479c-99f5-cfa16f907467",
   "metadata": {},
   "outputs": [
    {
     "data": {
      "text/plain": [
       "array([0.2221875, 0.240625 , 0.264375 , 0.28875  , 0.320625 , 0.34625  ,\n",
       "       0.3584375, 0.375    , 0.3875   , 0.40125  , 0.4125   , 0.4275   ,\n",
       "       0.4403125, 0.4465625, 0.4565625, 0.466875 , 0.4746875, 0.483125 ,\n",
       "       0.48625  , 0.4915625, 0.495    , 0.4990625, 0.5046875, 0.5071875,\n",
       "       0.510625 , 0.511875 , 0.5184375, 0.52375  , 0.52625  , 0.5284375,\n",
       "       0.528125 , 0.53     , 0.5325   , 0.535625 , 0.536875 , 0.5375   ,\n",
       "       0.54125  , 0.54125  , 0.5434375, 0.546875 , 0.5490625, 0.5484375,\n",
       "       0.549375 , 0.5509375, 0.5540625, 0.554375 , 0.5546875, 0.5575   ,\n",
       "       0.559375 , 0.5603125])"
      ]
     },
     "execution_count": 36,
     "metadata": {},
     "output_type": "execute_result"
    }
   ],
   "source": [
    "avg_test_accuracies"
   ]
  },
  {
   "cell_type": "code",
   "execution_count": null,
   "id": "48f283ac-4069-47ca-87c1-05c3e4a35f74",
   "metadata": {},
   "outputs": [],
   "source": []
  }
 ],
 "metadata": {
  "kernelspec": {
   "display_name": "phox_venv",
   "language": "python",
   "name": "phox_venv"
  },
  "language_info": {
   "codemirror_mode": {
    "name": "ipython",
    "version": 3
   },
   "file_extension": ".py",
   "mimetype": "text/x-python",
   "name": "python",
   "nbconvert_exporter": "python",
   "pygments_lexer": "ipython3",
   "version": "3.10.12"
  }
 },
 "nbformat": 4,
 "nbformat_minor": 5
}
