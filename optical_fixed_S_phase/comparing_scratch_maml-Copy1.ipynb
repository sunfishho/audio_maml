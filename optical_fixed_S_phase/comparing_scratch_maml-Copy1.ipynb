{
 "cells": [
  {
   "cell_type": "code",
   "execution_count": 1,
   "id": "44c0e935-00f5-4268-bcdd-36d265c1b3d3",
   "metadata": {},
   "outputs": [
    {
     "name": "stderr",
     "output_type": "stream",
     "text": [
      "\u001b[33;21m2023-08-25 13:33:18,882 - butterfly_op.py[line:23] - WARNING: Import universal_cuda fail\u001b[0m\n",
      "\u001b[33;21m2023-08-25 13:33:18,883 - butterfly_op.py[line:27] - WARNING: Import hadamard_cuda fail\u001b[0m\n",
      "\u001b[33;21m2023-08-25 13:33:18,885 - matrix_parametrization.py[line:23] - WARNING: Cannot import matrix_parametrization_cuda. Decomposers can only work on CPU mode\u001b[0m\n"
     ]
    }
   ],
   "source": [
    "from learner import Learner\n",
    "\n",
    "import os\n",
    "\n",
    "import warnings\n",
    "warnings.filterwarnings(action='ignore')\n",
    "\n",
    "import pandas as pd\n",
    "import librosa\n",
    "import numpy as np\n",
    "import torch\n",
    "from PIL import Image\n",
    "from sklearn.utils import shuffle\n",
    "from tqdm import tqdm\n",
    "from copy import deepcopy\n",
    "import matplotlib.pyplot as plt\n",
    "import torch.nn as nn\n",
    "import torch.optim as optim\n",
    "import torch.nn.functional as F\n",
    "import random"
   ]
  },
  {
   "cell_type": "code",
   "execution_count": 2,
   "id": "5e672a23-55cb-4c33-b27e-2117ba8c460a",
   "metadata": {},
   "outputs": [],
   "source": [
    "config = [\n",
    "    ('conv2d', [32, 1, 7, 7, 1, 3]),\n",
    "    ('relu', [True]),\n",
    "    ('bn', [32]),\n",
    "    ('conv2d', [16, 32, 5, 5, 1, 2]),\n",
    "    ('relu', [True]),\n",
    "    ('bn', [16]),\n",
    "    ('conv2d', [8, 16, 3, 3, 1, 1]),\n",
    "    ('relu', [True]),\n",
    "    ('bn', [8]),\n",
    "    ('flatten', []),\n",
    "    ('linear', [5, 8 * 28 * 28])\n",
    "]"
   ]
  },
  {
   "cell_type": "code",
   "execution_count": 3,
   "id": "2eede263-a977-4a56-b9a8-d5330ae6616f",
   "metadata": {},
   "outputs": [
    {
     "name": "stdout",
     "output_type": "stream",
     "text": [
      "DB: train (99, 100, 28, 28, 1) test (33, 100, 28, 28, 1)\n"
     ]
    }
   ],
   "source": [
    "from birdCallNShot import BirdCallNShot\n",
    "\n",
    "db_train = BirdCallNShot('birdCall',\n",
    "                       batchsz=32,\n",
    "                       n_way=5,\n",
    "                       k_shot=1,\n",
    "                       k_query=15,\n",
    "                       SPEC_SHAPE = (28,28))"
   ]
  },
  {
   "cell_type": "code",
   "execution_count": 4,
   "id": "9e510a8d-7c18-4445-8dbb-11473012e6b9",
   "metadata": {},
   "outputs": [],
   "source": [
    "x_spt, y_spt, x_qry, y_qry = map(lambda x: torch.from_numpy(x).to(torch.device('cpu')), db_train.next())\n",
    "device = torch.device('cpu')"
   ]
  },
  {
   "cell_type": "code",
   "execution_count": 12,
   "id": "3d9c0a12-5db9-4e69-9f89-3bab21769a78",
   "metadata": {},
   "outputs": [],
   "source": [
    "from torchonn.op.mzi_op import project_matrix_to_unitary\n",
    "\n",
    "def check_accuracy(data, labels, model, idx = 0):\n",
    "    # print('Checking accuracy on set')   \n",
    "    num_correct = 0\n",
    "    num_samples = 0\n",
    "    num_data_points = data.shape[0]\n",
    "    \n",
    "    model.eval()  # set model to evaluation mode\n",
    "    with torch.no_grad():\n",
    "        x, y = data[idx], labels[idx]\n",
    "        x = x.to(device=torch.device(\"cpu\"), dtype=torch.float32)  # move to device, e.g. GPU\n",
    "        y = y.to(device=torch.device(\"cpu\"), dtype=torch.long)\n",
    "        scores = model(x)\n",
    "        _, preds = scores.max(1)\n",
    "        num_correct += (preds == y).sum()\n",
    "        num_samples += preds.size(0)\n",
    "        acc = float(num_correct) / num_samples\n",
    "        # print('Got %d / %d correct (%.2f)' % (num_correct, num_samples, 100 * acc))\n",
    "        return acc\n",
    "        \n",
    "def train(data, labels, model, optimizer, epochs=50, idx = 0):\n",
    "    model = model.to(device=torch.device(\"cpu\"))  # move the model parameters to CPU/GPU    \n",
    "    test_accuracies = [check_accuracy(x_qry, y_qry, model, idx)]\n",
    "    for e in range(epochs):\n",
    "        # print(f\"Epoch number: {e}\")\n",
    "        x, y = data[idx], labels[idx]\n",
    "        model.train()  # put model to training mode\n",
    "        x = x.to(device=device, dtype=torch.float32)  # move to device, e.g. GPU\n",
    "        y = y.to(device=device, dtype=torch.long)\n",
    "\n",
    "        scores = model(x)\n",
    "        loss = F.cross_entropy(scores, y)\n",
    "\n",
    "        # Zero out all of the gradients for the variables which the optimizer\n",
    "        # will update.\n",
    "        optimizer.zero_grad()\n",
    "\n",
    "        # This is the backwards pass: compute the gradient of the loss with\n",
    "        # respect to each  parameter of the model.\n",
    "        loss.backward()\n",
    "\n",
    "        # Actually update the parameters of the model using the gradients\n",
    "        # computed by the backwards pass.\n",
    "        \n",
    "        optimizer.step()\n",
    "\n",
    "        param_idx = 0\n",
    "        \n",
    "        for name, param in model.config:\n",
    "            if name == 'conv2d' or name == 'linear':\n",
    "                # project U to unitary\n",
    "                with torch.no_grad():\n",
    "                    model.parameters()[param_idx].copy_(project_matrix_to_unitary(model.parameters()[param_idx]))\n",
    "                    model.parameters()[param_idx + 1].copy_(project_matrix_to_unitary(model.parameters()[param_idx + 1]))\n",
    "                param_idx += 3\n",
    "            elif name == 'bn':\n",
    "                param_idx += 2\n",
    "\n",
    "        param_idx = 0\n",
    "        \n",
    "        test_accuracies.append(check_accuracy(x_qry, y_qry, model, idx))\n",
    "    return test_accuracies"
   ]
  },
  {
   "cell_type": "code",
   "execution_count": 21,
   "id": "15e6b95f-1642-436c-bb70-edc3c04f13fe",
   "metadata": {},
   "outputs": [
    {
     "name": "stdout",
     "output_type": "stream",
     "text": [
      "doing one shot maml accuracies now\n",
      "For LR = 0.2: [0.19958333 0.32583333 0.39166667 0.41625    0.42291667 0.41958333\n",
      " 0.41666667 0.42166667 0.42208333 0.42125    0.41875    0.41708333\n",
      " 0.41791667 0.41583333 0.41416667 0.41166667 0.41375    0.41333333\n",
      " 0.41333333 0.41458333 0.41583333 0.415      0.41708333 0.41625\n",
      " 0.41666667 0.41583333 0.415      0.41541667 0.415      0.41458333\n",
      " 0.41333333]\n",
      "For LR = 0.5: [0.19958333 0.37333333 0.41708333 0.40458333 0.41083333 0.41583333\n",
      " 0.39833333 0.415      0.39791667 0.39583333 0.39375    0.39458333\n",
      " 0.39416667 0.39       0.3825     0.385      0.385      0.39125\n",
      " 0.38291667 0.3825     0.38083333 0.38333333 0.38375    0.3825\n",
      " 0.3825     0.38541667 0.38583333 0.38625    0.38666667 0.38583333\n",
      " 0.38416667]\n",
      "For LR = 1: [0.19958333 0.35583333 0.3025     0.28375    0.25958333 0.24375\n",
      " 0.22416667 0.24291667 0.22833333 0.23541667 0.23875    0.24208333\n",
      " 0.225      0.2425     0.23833333 0.2275     0.24083333 0.24291667\n",
      " 0.23666667 0.23958333 0.24666667 0.23708333 0.24958333 0.24375\n",
      " 0.24958333 0.24208333 0.24166667 0.24208333 0.23875    0.25333333\n",
      " 0.24083333]\n",
      "doing scratch accuracies now\n",
      "Time is 2023-08-25 13:57:20.543819, idx = 0\n",
      "Time is 2023-08-25 13:57:32.294309, idx = 8\n",
      "Time is 2023-08-25 13:57:44.241281, idx = 16\n",
      "Time is 2023-08-25 13:57:56.473186, idx = 24\n",
      "For LR = 0.2: [0.1875     0.20708333 0.21625    0.23875    0.25       0.23041667\n",
      " 0.23416667 0.23333333 0.245      0.24125    0.24041667 0.24125\n",
      " 0.24083333 0.2375     0.24083333 0.2425     0.23916667 0.24041667\n",
      " 0.23916667 0.23916667 0.24125    0.23958333 0.24083333 0.24125\n",
      " 0.24083333 0.24       0.24041667 0.23916667 0.23958333 0.24166667\n",
      " 0.24166667]\n",
      "Time is 2023-08-25 13:58:09.202129, idx = 0\n",
      "Time is 2023-08-25 13:58:21.166038, idx = 8\n",
      "Time is 2023-08-25 13:58:33.082089, idx = 16\n",
      "Time is 2023-08-25 13:58:45.152595, idx = 24\n",
      "For LR = 0.5: [0.19166667 0.21083333 0.21791667 0.22833333 0.22666667 0.24125\n",
      " 0.24583333 0.23833333 0.24083333 0.24083333 0.24166667 0.24416667\n",
      " 0.24416667 0.245      0.245      0.24583333 0.24541667 0.24375\n",
      " 0.24333333 0.24166667 0.24458333 0.24333333 0.24291667 0.24125\n",
      " 0.24166667 0.24125    0.24041667 0.23916667 0.24       0.23916667\n",
      " 0.23875   ]\n",
      "Time is 2023-08-25 13:58:58.155334, idx = 0\n",
      "Time is 2023-08-25 13:59:10.462558, idx = 8\n",
      "Time is 2023-08-25 13:59:22.784799, idx = 16\n",
      "Time is 2023-08-25 13:59:35.722139, idx = 24\n",
      "For LR = 1: [0.21541667 0.21791667 0.23166667 0.23458333 0.24291667 0.25166667\n",
      " 0.24291667 0.24375    0.2525     0.24375    0.23583333 0.24541667\n",
      " 0.24083333 0.24333333 0.245      0.24       0.24291667 0.24\n",
      " 0.23916667 0.24166667 0.24       0.23875    0.24041667 0.24291667\n",
      " 0.23958333 0.23958333 0.24125    0.23916667 0.23875    0.24041667\n",
      " 0.24041667]\n"
     ]
    }
   ],
   "source": [
    "import datetime\n",
    "\n",
    "lr_list = [0.2, 0.5, 1]\n",
    "\n",
    "print(\"doing one shot maml accuracies now\")\n",
    "one_shot_test_accuracies = {}\n",
    "\n",
    "for lr in lr_list:\n",
    "    models = []\n",
    "    models = [Learner(config, 1, 28, mb = 16) for _ in range(32)]\n",
    "    for i in range(32):\n",
    "        models[i].load_state_dict(torch.load('onn_birdcall_lr1mlr0.01shot1.pth'))\n",
    "    test_accs = []\n",
    "    for idx in range(32):\n",
    "        models[idx].eval()\n",
    "        optimizer = optim.SGD(models[idx].parameters(), lr=lr, momentum=0.9, nesterov=True)\n",
    "        test_accs.append(train(x_spt, y_spt, models[idx], optimizer, epochs = 30, idx = idx))\n",
    "    one_shot_test_accuracies[str(lr)] = np.average(np.array(test_accs), axis = 0)\n",
    "    print(f\"For LR = {lr}: {one_shot_test_accuracies[str(lr)]}\")\n",
    "\n",
    "print(\"doing scratch accuracies now\")\n",
    "scratch_test_accuracies = {}\n",
    "\n",
    "for lr in lr_list:\n",
    "    models = []\n",
    "    models = [Learner(config, 1, 28, mb = 16) for _ in range(32)]\n",
    "    test_accs = []\n",
    "    for idx in range(32):\n",
    "        if idx % 8 == 0:\n",
    "            print(f\"Time is {datetime.datetime.now()}, idx = {idx}\")\n",
    "        models[idx].eval()\n",
    "        optimizer = optim.SGD(models[idx].parameters(), lr=lr, momentum=0.9, nesterov=True)\n",
    "        test_accs.append(train(x_spt, y_spt, models[idx], optimizer, epochs = 30, idx = idx))\n",
    "    scratch_test_accuracies[str(lr)] = np.average(np.array(test_accs), axis = 0)\n",
    "    print(f\"For LR = {lr}: {scratch_test_accuracies[str(lr)]}\")"
   ]
  },
  {
   "cell_type": "code",
   "execution_count": 27,
   "id": "2e77c98f-7592-4988-aac5-400a6e37b94b",
   "metadata": {},
   "outputs": [
    {
     "data": {
      "text/plain": [
       "tensor([[ 1.1960e+00,  2.0662e-02,  2.1840e-02, -4.8182e-03,  1.5105e-02,\n",
       "         -3.8637e-02,  5.4574e-03, -2.1942e-02,  6.9004e-02, -2.3192e-02,\n",
       "          4.7193e-04,  1.2480e-02, -3.3011e-03,  8.3544e-03, -2.4266e-03,\n",
       "         -1.5933e-02],\n",
       "        [ 2.0662e-02,  1.0241e+00, -4.9900e-04,  4.4224e-03,  1.1986e-03,\n",
       "         -9.5520e-03,  4.2495e-03,  5.7455e-03,  5.9450e-03,  6.8742e-03,\n",
       "         -7.4228e-04, -1.6415e-03, -7.4162e-03,  2.2455e-03,  9.9659e-04,\n",
       "         -7.3046e-03],\n",
       "        [ 2.1840e-02, -4.9900e-04,  1.0423e+00,  1.4545e-02,  8.1832e-03,\n",
       "         -1.3349e-03,  1.1570e-02, -6.0275e-03,  1.7019e-02,  4.4990e-03,\n",
       "          5.4232e-03,  8.1171e-03, -5.2597e-03,  9.7121e-03,  6.4465e-03,\n",
       "         -1.0937e-02],\n",
       "        [-4.8182e-03,  4.4224e-03,  1.4545e-02,  1.0146e+00,  2.1795e-05,\n",
       "         -9.1130e-03,  2.7637e-03,  1.5977e-03,  6.4656e-03, -4.8128e-03,\n",
       "         -1.2961e-03,  8.1194e-03,  1.1797e-03,  4.2712e-03,  8.5929e-03,\n",
       "         -2.5718e-03],\n",
       "        [ 1.5105e-02,  1.1986e-03,  8.1832e-03,  2.1795e-05,  1.0115e+00,\n",
       "          7.0053e-03, -2.9981e-03,  5.5319e-03, -3.5592e-03,  6.3738e-03,\n",
       "          1.1542e-03, -6.9171e-04,  4.5686e-03,  5.6597e-03,  2.7230e-03,\n",
       "          1.6163e-03],\n",
       "        [-3.8637e-02, -9.5520e-03, -1.3349e-03, -9.1130e-03,  7.0053e-03,\n",
       "          1.0323e+00, -2.8212e-03,  4.8646e-03, -8.9467e-03,  6.8325e-03,\n",
       "         -2.8594e-04, -2.7858e-03,  2.2899e-03, -2.6826e-03, -4.1816e-04,\n",
       "          1.3282e-02],\n",
       "        [ 5.4574e-03,  4.2495e-03,  1.1570e-02,  2.7637e-03, -2.9981e-03,\n",
       "         -2.8212e-03,  1.0055e+00, -3.5090e-03,  1.3715e-02,  6.9150e-03,\n",
       "          3.5680e-03,  2.8430e-03, -4.2047e-03,  3.7620e-04,  9.5387e-04,\n",
       "         -7.1411e-03],\n",
       "        [-2.1942e-02,  5.7455e-03, -6.0275e-03,  1.5977e-03,  5.5319e-03,\n",
       "          4.8646e-03, -3.5090e-03,  1.0148e+00, -2.2547e-03,  2.1797e-02,\n",
       "         -7.7555e-04, -1.6790e-03,  2.2235e-03,  4.6362e-03, -2.1743e-03,\n",
       "          3.8572e-03],\n",
       "        [ 6.9004e-02,  5.9450e-03,  1.7019e-02,  6.4656e-03, -3.5592e-03,\n",
       "         -8.9467e-03,  1.3715e-02, -2.2547e-03,  1.0334e+00, -1.3377e-02,\n",
       "          1.9614e-03,  4.3444e-03, -6.4785e-03, -3.6111e-03,  5.2803e-03,\n",
       "         -5.0880e-03],\n",
       "        [-2.3192e-02,  6.8742e-03,  4.4990e-03, -4.8128e-03,  6.3738e-03,\n",
       "          6.8325e-03,  6.9150e-03,  2.1797e-02, -1.3377e-02,  1.0316e+00,\n",
       "          1.2438e-03, -3.5435e-03, -8.2769e-03, -1.7297e-03, -1.0857e-02,\n",
       "          2.8756e-03],\n",
       "        [ 4.7193e-04, -7.4228e-04,  5.4232e-03, -1.2961e-03,  1.1542e-03,\n",
       "         -2.8594e-04,  3.5680e-03, -7.7555e-04,  1.9614e-03,  1.2438e-03,\n",
       "          1.0029e+00,  2.2533e-03,  3.1160e-04,  8.2958e-04, -4.7738e-04,\n",
       "          2.8052e-04],\n",
       "        [ 1.2480e-02, -1.6415e-03,  8.1171e-03,  8.1194e-03, -6.9171e-04,\n",
       "         -2.7858e-03,  2.8430e-03, -1.6790e-03,  4.3444e-03, -3.5435e-03,\n",
       "          2.2533e-03,  9.9753e-01,  2.1768e-03,  2.1423e-03,  3.6225e-03,\n",
       "         -5.0148e-03],\n",
       "        [-3.3011e-03, -7.4162e-03, -5.2597e-03,  1.1797e-03,  4.5686e-03,\n",
       "          2.2899e-03, -4.2047e-03,  2.2235e-03, -6.4785e-03, -8.2769e-03,\n",
       "          3.1160e-04,  2.1768e-03,  1.0235e+00, -1.0292e-03, -1.8052e-03,\n",
       "          1.3650e-02],\n",
       "        [ 8.3544e-03,  2.2455e-03,  9.7121e-03,  4.2712e-03,  5.6597e-03,\n",
       "         -2.6826e-03,  3.7620e-04,  4.6362e-03, -3.6111e-03, -1.7297e-03,\n",
       "          8.2958e-04,  2.1423e-03, -1.0292e-03,  1.0036e+00,  3.4093e-03,\n",
       "         -5.1569e-03],\n",
       "        [-2.4266e-03,  9.9659e-04,  6.4465e-03,  8.5929e-03,  2.7230e-03,\n",
       "         -4.1816e-04,  9.5387e-04, -2.1743e-03,  5.2803e-03, -1.0857e-02,\n",
       "         -4.7738e-04,  3.6225e-03, -1.8052e-03,  3.4093e-03,  1.0057e+00,\n",
       "         -5.2947e-03],\n",
       "        [-1.5933e-02, -7.3046e-03, -1.0937e-02, -2.5718e-03,  1.6163e-03,\n",
       "          1.3282e-02, -7.1411e-03,  3.8572e-03, -5.0880e-03,  2.8756e-03,\n",
       "          2.8052e-04, -5.0148e-03,  1.3650e-02, -5.1569e-03, -5.2947e-03,\n",
       "          1.0162e+00]], grad_fn=<MmBackward0>)"
      ]
     },
     "execution_count": 27,
     "metadata": {},
     "output_type": "execute_result"
    }
   ],
   "source": [
    "models[2].parameters()[0][0][0] @ models[2].parameters()[0][0][0].T"
   ]
  },
  {
   "cell_type": "code",
   "execution_count": 31,
   "id": "29e37f88-cbb5-4a7d-bc4b-950687bb1ed1",
   "metadata": {},
   "outputs": [
    {
     "data": {
      "image/png": "[encoded data removed]",
      "text/plain": [
       "<Figure size 640x480 with 1 Axes>"
      ]
     },
     "metadata": {},
     "output_type": "display_data"
    }
   ],
   "source": [
    "import matplotlib.pyplot as plt\n",
    "\n",
    "y0 = scratch_test_accuracies[str(0.2)]\n",
    "y1 = one_shot_test_accuracies[str(0.2)]\n",
    "plt.plot(np.array(list(range(0, len(y0)))), y0, label='Trained from Scratch', color='blue')\n",
    "plt.plot(np.array(list(range(0,len(y1)))), y1, label='Pretrained with Metalearning', color='orange')\n",
    "\n",
    "# Customize the plot\n",
    "plt.xlabel('Number of Iterations of Training')\n",
    "plt.ylabel('Test Classification Accuracy')\n",
    "plt.title('One Shot Bird Call Classification: \\nComparing Metalearned ONN vs. Randomly Initialized ONN, fixed S')\n",
    "plt.grid(True)\n",
    "plt.legend()\n",
    "plt.savefig('onn_one_shot_birdcall_metalearning_comparison_fixed_s_lr=0.2.jpg', format='jpg')\n",
    "plt.show()"
   ]
  },
  {
   "cell_type": "code",
   "execution_count": 29,
   "id": "9305c374-ddb8-47ab-93ec-e95ab6d8a3f8",
   "metadata": {},
   "outputs": [
    {
     "name": "stdout",
     "output_type": "stream",
     "text": [
      "/Users/matthewho/Photonic_computing/audio/optical_fixed_S\n"
     ]
    }
   ],
   "source": [
    "!pwd"
   ]
  },
  {
   "cell_type": "code",
   "execution_count": null,
   "id": "c0e2a7bc-89a2-46ca-9500-011a3abfe218",
   "metadata": {},
   "outputs": [],
   "source": []
  }
 ],
 "metadata": {
  "kernelspec": {
   "display_name": "phox_venv",
   "language": "python",
   "name": "phox_venv"
  },
  "language_info": {
   "codemirror_mode": {
    "name": "ipython",
    "version": 3
   },
   "file_extension": ".py",
   "mimetype": "text/x-python",
   "name": "python",
   "nbconvert_exporter": "python",
   "pygments_lexer": "ipython3",
   "version": "3.10.12"
  }
 },
 "nbformat": 4,
 "nbformat_minor": 5
}
