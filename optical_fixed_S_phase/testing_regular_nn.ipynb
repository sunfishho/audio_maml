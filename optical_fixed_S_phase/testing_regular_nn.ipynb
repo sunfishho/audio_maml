{
 "cells": [
  {
   "cell_type": "code",
   "execution_count": 1,
   "id": "44c0e935-00f5-4268-bcdd-36d265c1b3d3",
   "metadata": {},
   "outputs": [
    {
     "name": "stderr",
     "output_type": "stream",
     "text": [
      "\u001b[33;21m2023-08-24 10:28:05,983 - butterfly_op.py[line:23] - WARNING: Import universal_cuda fail\u001b[0m\n",
      "\u001b[33;21m2023-08-24 10:28:05,984 - butterfly_op.py[line:27] - WARNING: Import hadamard_cuda fail\u001b[0m\n",
      "\u001b[33;21m2023-08-24 10:28:05,985 - matrix_parametrization.py[line:23] - WARNING: Cannot import matrix_parametrization_cuda. Decomposers can only work on CPU mode\u001b[0m\n"
     ]
    }
   ],
   "source": [
    "from learner import Learner\n",
    "\n",
    "import os\n",
    "\n",
    "import warnings\n",
    "warnings.filterwarnings(action='ignore')\n",
    "\n",
    "import pandas as pd\n",
    "import librosa\n",
    "import numpy as np\n",
    "import torch\n",
    "from PIL import Image\n",
    "from sklearn.utils import shuffle\n",
    "from tqdm import tqdm\n",
    "from copy import deepcopy\n",
    "import matplotlib.pyplot as plt\n",
    "import torch.nn as nn\n",
    "import torch.optim as optim\n",
    "import torch.nn.functional as F\n",
    "import random"
   ]
  },
  {
   "cell_type": "code",
   "execution_count": 2,
   "id": "5e672a23-55cb-4c33-b27e-2117ba8c460a",
   "metadata": {},
   "outputs": [],
   "source": [
    "config = [\n",
    "    ('conv2d', [32, 1, 7, 7, 1, 3]),\n",
    "    ('relu', [True]),\n",
    "    ('bn', [32]),\n",
    "    ('conv2d', [16, 32, 5, 5, 1, 2]),\n",
    "    ('relu', [True]),\n",
    "    ('bn', [16]),\n",
    "    ('conv2d', [8, 16, 3, 3, 1, 1]),\n",
    "    ('relu', [True]),\n",
    "    ('bn', [8]),\n",
    "    ('flatten', []),\n",
    "    ('linear', [5, 8 * 28 * 28])\n",
    "]"
   ]
  },
  {
   "cell_type": "code",
   "execution_count": 81,
   "id": "2eede263-a977-4a56-b9a8-d5330ae6616f",
   "metadata": {},
   "outputs": [
    {
     "name": "stdout",
     "output_type": "stream",
     "text": [
      "DB: train (99, 100, 28, 28, 1) test (33, 100, 28, 28, 1)\n"
     ]
    }
   ],
   "source": [
    "from birdCallNShot import BirdCallNShot\n",
    "\n",
    "db_train = BirdCallNShot('birdCall',\n",
    "                       batchsz=32,\n",
    "                       n_way=5,\n",
    "                       k_shot=10,\n",
    "                       k_query=15,\n",
    "                       SPEC_SHAPE = (28,28))"
   ]
  },
  {
   "cell_type": "code",
   "execution_count": 82,
   "id": "9e510a8d-7c18-4445-8dbb-11473012e6b9",
   "metadata": {},
   "outputs": [],
   "source": [
    "x_spt, y_spt, x_qry, y_qry = map(lambda x: torch.from_numpy(x).to(torch.device('cpu')), db_train.next())\n",
    "device = torch.device('cpu')"
   ]
  },
  {
   "cell_type": "code",
   "execution_count": 83,
   "id": "339c6e48-f68e-4133-bded-87892894a5ea",
   "metadata": {},
   "outputs": [
    {
     "data": {
      "text/plain": [
       "torch.Size([32, 50, 1, 28, 28])"
      ]
     },
     "execution_count": 83,
     "metadata": {},
     "output_type": "execute_result"
    }
   ],
   "source": [
    "x_spt.shape"
   ]
  },
  {
   "cell_type": "code",
   "execution_count": 101,
   "id": "3d9c0a12-5db9-4e69-9f89-3bab21769a78",
   "metadata": {},
   "outputs": [],
   "source": [
    "from torchonn.op.mzi_op import project_matrix_to_unitary\n",
    "\n",
    "def check_accuracy(data, labels, model, idx = 0):\n",
    "    # print('Checking accuracy on set')   \n",
    "    num_correct = 0\n",
    "    num_samples = 0\n",
    "    num_data_points = data.shape[0]\n",
    "    \n",
    "    model.eval()  # set model to evaluation mode\n",
    "    with torch.no_grad():\n",
    "        x, y = data[idx], labels[idx]\n",
    "        x = x.to(device=torch.device(\"cpu\"), dtype=torch.float32)  # move to device, e.g. GPU\n",
    "        y = y.to(device=torch.device(\"cpu\"), dtype=torch.long)\n",
    "        scores = model(x)\n",
    "        _, preds = scores.max(1)\n",
    "        num_correct += (preds == y).sum()\n",
    "        num_samples += preds.size(0)\n",
    "        acc = float(num_correct) / num_samples\n",
    "        # print('Got %d / %d correct (%.2f)' % (num_correct, num_samples, 100 * acc))\n",
    "        return acc\n",
    "        \n",
    "def train(data, labels, model, optimizer, epochs=50, idx = 0):\n",
    "    model = model.to(device=torch.device(\"cpu\"))  # move the model parameters to CPU/GPU    \n",
    "    test_accuracies = [check_accuracy(x_qry, y_qry, model, idx)]\n",
    "    for e in range(epochs):\n",
    "        # print(f\"Epoch number: {e}\")\n",
    "        x, y = data[idx], labels[idx]\n",
    "        model.train()  # put model to training mode\n",
    "        x = x.to(device=device, dtype=torch.float32)  # move to device, e.g. GPU\n",
    "        y = y.to(device=device, dtype=torch.long)\n",
    "\n",
    "        scores = model(x)\n",
    "        loss = F.cross_entropy(scores, y)\n",
    "\n",
    "        # Zero out all of the gradients for the variables which the optimizer\n",
    "        # will update.\n",
    "        optimizer.zero_grad()\n",
    "\n",
    "        # This is the backwards pass: compute the gradient of the loss with\n",
    "        # respect to each  parameter of the model.\n",
    "        loss.backward()\n",
    "\n",
    "        # Actually update the parameters of the model using the gradients\n",
    "        # computed by the backwards pass.\n",
    "        \n",
    "        \n",
    "        optimizer.step()\n",
    "        model_idx = 0\n",
    "        for name, param in model.config:\n",
    "            if name == 'conv2d' or name == 'linear':\n",
    "                # project U to unitary\n",
    "                with torch.no_grad():\n",
    "                    model.parameters()[model_idx].copy_(project_matrix_to_unitary(model.parameters()[model_idx]))\n",
    "                    model.parameters()[model_idx+1].copy_(project_matrix_to_unitary(model.parameters()[model_idx+1]))\n",
    "                model_idx += 3\n",
    "            elif name == 'bn':\n",
    "                model_idx += 2\n",
    "\n",
    "        param_idx = 0\n",
    "        \n",
    "        test_accuracies.append(check_accuracy(x_qry, y_qry, model, idx))\n",
    "    return test_accuracies"
   ]
  },
  {
   "cell_type": "code",
   "execution_count": 112,
   "id": "5322d3b5-4013-4e19-b071-35e5230bbc1c",
   "metadata": {},
   "outputs": [
    {
     "name": "stdout",
     "output_type": "stream",
     "text": [
      "On iteration 0\n"
     ]
    }
   ],
   "source": [
    "lr = 0.4\n",
    "\n",
    "models = []\n",
    "models = [Learner(config, 1, 28, mb = 16) for _ in range(11)]\n",
    "test_accs = []\n",
    "for idx in range(1):\n",
    "    models[idx].load_state_dict(torch.load('onn_birdcall_lr0.4mlr0.01shot1.pth'))\n",
    "    print(f\"On iteration {idx}\")\n",
    "    models[idx].eval()\n",
    "    optimizer = optim.SGD(models[idx].parameters(), lr=lr, momentum=0.9, nesterov=True)\n",
    "    test_accs.append(train(x_spt, y_spt, models[idx], optimizer, epochs = 50, idx = idx))\n",
    "\n",
    "avg_test_accuracies = np.average(np.array(test_accs), axis = 0)"
   ]
  },
  {
   "cell_type": "code",
   "execution_count": 113,
   "id": "ee7619c0-a2b9-479c-99f5-cfa16f907467",
   "metadata": {},
   "outputs": [
    {
     "data": {
      "text/plain": [
       "array([0.16      , 0.17333333, 0.24      , 0.33333333, 0.48      ,\n",
       "       0.42666667, 0.53333333, 0.57333333, 0.54666667, 0.54666667,\n",
       "       0.50666667, 0.48      , 0.46666667, 0.57333333, 0.61333333,\n",
       "       0.57333333, 0.66666667, 0.66666667, 0.69333333, 0.65333333,\n",
       "       0.66666667, 0.66666667, 0.68      , 0.66666667, 0.68      ,\n",
       "       0.69333333, 0.72      , 0.72      , 0.72      , 0.72      ,\n",
       "       0.72      , 0.72      , 0.72      , 0.72      , 0.72      ,\n",
       "       0.72      , 0.72      , 0.72      , 0.72      , 0.73333333,\n",
       "       0.73333333, 0.73333333, 0.73333333, 0.73333333, 0.73333333,\n",
       "       0.73333333, 0.73333333, 0.73333333, 0.73333333, 0.73333333,\n",
       "       0.73333333])"
      ]
     },
     "execution_count": 113,
     "metadata": {},
     "output_type": "execute_result"
    }
   ],
   "source": [
    "avg_test_accuracies"
   ]
  },
  {
   "cell_type": "code",
   "execution_count": 114,
   "id": "6c50773b-12bb-4a24-b22d-619392fa0334",
   "metadata": {},
   "outputs": [
    {
     "data": {
      "text/plain": [
       "True"
      ]
     },
     "execution_count": 114,
     "metadata": {},
     "output_type": "execute_result"
    }
   ],
   "source": [
    "torch.allclose(model.parameters()[0][0][0] @ model.parameters()[0][0][0].T, torch.eye(16), atol = 1e-6)"
   ]
  },
  {
   "cell_type": "code",
   "execution_count": 117,
   "id": "45c18652-077f-4d6e-befe-0f45345cb348",
   "metadata": {},
   "outputs": [
    {
     "data": {
      "text/plain": [
       "Parameter containing:\n",
       "tensor([[[1., 1., 1., 1., 1., 1., 1., 1., 1., 1., 1., 1., 1., 1., 1., 1.],\n",
       "         [1., 1., 1., 1., 1., 1., 1., 1., 1., 1., 1., 1., 1., 1., 1., 1.],\n",
       "         [1., 1., 1., 1., 1., 1., 1., 1., 1., 1., 1., 1., 1., 1., 1., 1.],\n",
       "         [1., 1., 1., 1., 1., 1., 1., 1., 1., 1., 1., 1., 1., 1., 1., 1.],\n",
       "         [1., 1., 1., 1., 1., 1., 1., 1., 1., 1., 1., 1., 1., 1., 1., 1.],\n",
       "         [1., 1., 1., 1., 1., 1., 1., 1., 1., 1., 1., 1., 1., 1., 1., 1.],\n",
       "         [1., 1., 1., 1., 1., 1., 1., 1., 1., 1., 1., 1., 1., 1., 1., 1.],\n",
       "         [1., 1., 1., 1., 1., 1., 1., 1., 1., 1., 1., 1., 1., 1., 1., 1.],\n",
       "         [1., 1., 1., 1., 1., 1., 1., 1., 1., 1., 1., 1., 1., 1., 1., 1.],\n",
       "         [1., 1., 1., 1., 1., 1., 1., 1., 1., 1., 1., 1., 1., 1., 1., 1.],\n",
       "         [1., 1., 1., 1., 1., 1., 1., 1., 1., 1., 1., 1., 1., 1., 1., 1.],\n",
       "         [1., 1., 1., 1., 1., 1., 1., 1., 1., 1., 1., 1., 1., 1., 1., 1.],\n",
       "         [1., 1., 1., 1., 1., 1., 1., 1., 1., 1., 1., 1., 1., 1., 1., 1.],\n",
       "         [1., 1., 1., 1., 1., 1., 1., 1., 1., 1., 1., 1., 1., 1., 1., 1.],\n",
       "         [1., 1., 1., 1., 1., 1., 1., 1., 1., 1., 1., 1., 1., 1., 1., 1.],\n",
       "         [1., 1., 1., 1., 1., 1., 1., 1., 1., 1., 1., 1., 1., 1., 1., 1.],\n",
       "         [1., 1., 1., 1., 1., 1., 1., 1., 1., 1., 1., 1., 1., 1., 1., 1.],\n",
       "         [1., 1., 1., 1., 1., 1., 1., 1., 1., 1., 1., 1., 1., 1., 1., 1.],\n",
       "         [1., 1., 1., 1., 1., 1., 1., 1., 1., 1., 1., 1., 1., 1., 1., 1.],\n",
       "         [1., 1., 1., 1., 1., 1., 1., 1., 1., 1., 1., 1., 1., 1., 1., 1.],\n",
       "         [1., 1., 1., 1., 1., 1., 1., 1., 1., 1., 1., 1., 1., 1., 1., 1.],\n",
       "         [1., 1., 1., 1., 1., 1., 1., 1., 1., 1., 1., 1., 1., 1., 1., 1.],\n",
       "         [1., 1., 1., 1., 1., 1., 1., 1., 1., 1., 1., 1., 1., 1., 1., 1.],\n",
       "         [1., 1., 1., 1., 1., 1., 1., 1., 1., 1., 1., 1., 1., 1., 1., 1.],\n",
       "         [1., 1., 1., 1., 1., 1., 1., 1., 1., 1., 1., 1., 1., 1., 1., 1.],\n",
       "         [1., 1., 1., 1., 1., 1., 1., 1., 1., 1., 1., 1., 1., 1., 1., 1.],\n",
       "         [1., 1., 1., 1., 1., 1., 1., 1., 1., 1., 1., 1., 1., 1., 1., 1.],\n",
       "         [1., 1., 1., 1., 1., 1., 1., 1., 1., 1., 1., 1., 1., 1., 1., 1.],\n",
       "         [1., 1., 1., 1., 1., 1., 1., 1., 1., 1., 1., 1., 1., 1., 1., 1.],\n",
       "         [1., 1., 1., 1., 1., 1., 1., 1., 1., 1., 1., 1., 1., 1., 1., 1.],\n",
       "         [1., 1., 1., 1., 1., 1., 1., 1., 1., 1., 1., 1., 1., 1., 1., 1.],\n",
       "         [1., 1., 1., 1., 1., 1., 1., 1., 1., 1., 1., 1., 1., 1., 1., 1.],\n",
       "         [1., 1., 1., 1., 1., 1., 1., 1., 1., 1., 1., 1., 1., 1., 1., 1.],\n",
       "         [1., 1., 1., 1., 1., 1., 1., 1., 1., 1., 1., 1., 1., 1., 1., 1.],\n",
       "         [1., 1., 1., 1., 1., 1., 1., 1., 1., 1., 1., 1., 1., 1., 1., 1.],\n",
       "         [1., 1., 1., 1., 1., 1., 1., 1., 1., 1., 1., 1., 1., 1., 1., 1.],\n",
       "         [1., 1., 1., 1., 1., 1., 1., 1., 1., 1., 1., 1., 1., 1., 1., 1.],\n",
       "         [1., 1., 1., 1., 1., 1., 1., 1., 1., 1., 1., 1., 1., 1., 1., 1.],\n",
       "         [1., 1., 1., 1., 1., 1., 1., 1., 1., 1., 1., 1., 1., 1., 1., 1.],\n",
       "         [1., 1., 1., 1., 1., 1., 1., 1., 1., 1., 1., 1., 1., 1., 1., 1.],\n",
       "         [1., 1., 1., 1., 1., 1., 1., 1., 1., 1., 1., 1., 1., 1., 1., 1.],\n",
       "         [1., 1., 1., 1., 1., 1., 1., 1., 1., 1., 1., 1., 1., 1., 1., 1.],\n",
       "         [1., 1., 1., 1., 1., 1., 1., 1., 1., 1., 1., 1., 1., 1., 1., 1.],\n",
       "         [1., 1., 1., 1., 1., 1., 1., 1., 1., 1., 1., 1., 1., 1., 1., 1.],\n",
       "         [1., 1., 1., 1., 1., 1., 1., 1., 1., 1., 1., 1., 1., 1., 1., 1.],\n",
       "         [1., 1., 1., 1., 1., 1., 1., 1., 1., 1., 1., 1., 1., 1., 1., 1.],\n",
       "         [1., 1., 1., 1., 1., 1., 1., 1., 1., 1., 1., 1., 1., 1., 1., 1.],\n",
       "         [1., 1., 1., 1., 1., 1., 1., 1., 1., 1., 1., 1., 1., 1., 1., 1.],\n",
       "         [1., 1., 1., 1., 1., 1., 1., 1., 1., 1., 1., 1., 1., 1., 1., 1.],\n",
       "         [1., 1., 1., 1., 1., 1., 1., 1., 1., 1., 1., 1., 1., 1., 1., 1.]]],\n",
       "       requires_grad=True)"
      ]
     },
     "execution_count": 117,
     "metadata": {},
     "output_type": "execute_result"
    }
   ],
   "source": [
    "model.vars[7]"
   ]
  },
  {
   "cell_type": "code",
   "execution_count": null,
   "id": "93529eb9-0ad2-4fff-a696-c93dc5274e8f",
   "metadata": {},
   "outputs": [],
   "source": []
  }
 ],
 "metadata": {
  "kernelspec": {
   "display_name": "phox_venv",
   "language": "python",
   "name": "phox_venv"
  },
  "language_info": {
   "codemirror_mode": {
    "name": "ipython",
    "version": 3
   },
   "file_extension": ".py",
   "mimetype": "text/x-python",
   "name": "python",
   "nbconvert_exporter": "python",
   "pygments_lexer": "ipython3",
   "version": "3.10.12"
  }
 },
 "nbformat": 4,
 "nbformat_minor": 5
}
