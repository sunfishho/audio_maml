{
 "cells": [
  {
   "cell_type": "code",
   "execution_count": 1,
   "id": "44c0e935-00f5-4268-bcdd-36d265c1b3d3",
   "metadata": {},
   "outputs": [
    {
     "name": "stderr",
     "output_type": "stream",
     "text": [
      "\u001b[33;21m2023-08-23 17:18:45,998 - butterfly_op.py[line:23] - WARNING: Import universal_cuda fail\u001b[0m\n",
      "\u001b[33;21m2023-08-23 17:18:46,000 - butterfly_op.py[line:27] - WARNING: Import hadamard_cuda fail\u001b[0m\n",
      "\u001b[33;21m2023-08-23 17:18:46,002 - matrix_parametrization.py[line:23] - WARNING: Cannot import matrix_parametrization_cuda. Decomposers can only work on CPU mode\u001b[0m\n"
     ]
    }
   ],
   "source": [
    "from learner import Learner\n",
    "\n",
    "import os\n",
    "\n",
    "import warnings\n",
    "warnings.filterwarnings(action='ignore')\n",
    "\n",
    "import pandas as pd\n",
    "import librosa\n",
    "import numpy as np\n",
    "import torch\n",
    "from PIL import Image\n",
    "from sklearn.utils import shuffle\n",
    "from tqdm import tqdm\n",
    "from copy import deepcopy\n",
    "import matplotlib.pyplot as plt\n",
    "import torch.nn as nn\n",
    "import torch.optim as optim\n",
    "import torch.nn.functional as F\n",
    "import random"
   ]
  },
  {
   "cell_type": "code",
   "execution_count": 2,
   "id": "5e672a23-55cb-4c33-b27e-2117ba8c460a",
   "metadata": {},
   "outputs": [],
   "source": [
    "config = [\n",
    "    ('conv2d', [32, 1, 7, 7, 1, 3]),\n",
    "    ('relu', [True]),\n",
    "    ('bn', [32]),\n",
    "    ('conv2d', [16, 32, 5, 5, 1, 2]),\n",
    "    ('relu', [True]),\n",
    "    ('bn', [16]),\n",
    "    ('conv2d', [8, 16, 3, 3, 1, 1]),\n",
    "    ('relu', [True]),\n",
    "    ('bn', [8]),\n",
    "    ('flatten', []),\n",
    "    ('linear', [5, 8 * 28 * 28])\n",
    "]"
   ]
  },
  {
   "cell_type": "code",
   "execution_count": 13,
   "id": "2eede263-a977-4a56-b9a8-d5330ae6616f",
   "metadata": {},
   "outputs": [
    {
     "name": "stdout",
     "output_type": "stream",
     "text": [
      "DB: train (99, 100, 28, 28, 1) test (33, 100, 28, 28, 1)\n"
     ]
    }
   ],
   "source": [
    "from birdCallNShot import BirdCallNShot\n",
    "\n",
    "db_train = BirdCallNShot('birdCall',\n",
    "                       batchsz=32,\n",
    "                       n_way=5,\n",
    "                       k_shot=10,\n",
    "                       k_query=15,\n",
    "                       SPEC_SHAPE = (28,28))"
   ]
  },
  {
   "cell_type": "code",
   "execution_count": 14,
   "id": "9e510a8d-7c18-4445-8dbb-11473012e6b9",
   "metadata": {},
   "outputs": [],
   "source": [
    "x_spt, y_spt, x_qry, y_qry = map(lambda x: torch.from_numpy(x).to(torch.device('cpu')), db_train.next())\n",
    "device = torch.device('cpu')"
   ]
  },
  {
   "cell_type": "code",
   "execution_count": 15,
   "id": "3d9c0a12-5db9-4e69-9f89-3bab21769a78",
   "metadata": {},
   "outputs": [],
   "source": [
    "def check_accuracy(data, labels, model, idx = 0):\n",
    "    # print('Checking accuracy on set')   \n",
    "    num_correct = 0\n",
    "    num_samples = 0\n",
    "    num_data_points = data.shape[0]\n",
    "    \n",
    "    model.eval()  # set model to evaluation mode\n",
    "    with torch.no_grad():\n",
    "        x, y = data[idx], labels[idx]\n",
    "        x = x.to(device=torch.device(\"cpu\"), dtype=torch.float32)  # move to device, e.g. GPU\n",
    "        y = y.to(device=torch.device(\"cpu\"), dtype=torch.long)\n",
    "        scores = model(x)\n",
    "        _, preds = scores.max(1)\n",
    "        num_correct += (preds == y).sum()\n",
    "        num_samples += preds.size(0)\n",
    "        acc = float(num_correct) / num_samples\n",
    "        # print('Got %d / %d correct (%.2f)' % (num_correct, num_samples, 100 * acc))\n",
    "        return acc\n",
    "        \n",
    "def train(data, labels, model, optimizer, epochs=50, idx = 0):\n",
    "    model = model.to(device=torch.device(\"cpu\"))  # move the model parameters to CPU/GPU    \n",
    "    test_accuracies = [check_accuracy(x_qry, y_qry, model, idx)]\n",
    "    for e in range(epochs):\n",
    "        # print(f\"Epoch number: {e}\")\n",
    "        x, y = data[idx], labels[idx]\n",
    "        model.train()  # put model to training mode\n",
    "        x = x.to(device=device, dtype=torch.float32)  # move to device, e.g. GPU\n",
    "        y = y.to(device=device, dtype=torch.long)\n",
    "\n",
    "        scores = model(x)\n",
    "        loss = F.cross_entropy(scores, y)\n",
    "\n",
    "        # Zero out all of the gradients for the variables which the optimizer\n",
    "        # will update.\n",
    "        optimizer.zero_grad()\n",
    "\n",
    "        # This is the backwards pass: compute the gradient of the loss with\n",
    "        # respect to each  parameter of the model.\n",
    "        loss.backward()\n",
    "\n",
    "        # Actually update the parameters of the model using the gradients\n",
    "        # computed by the backwards pass.\n",
    "        \n",
    "        \n",
    "        optimizer.step()\n",
    "\n",
    "        param_idx = 0\n",
    "        \n",
    "        test_accuracies.append(check_accuracy(x_qry, y_qry, model, idx))\n",
    "    return test_accuracies"
   ]
  },
  {
   "cell_type": "code",
   "execution_count": 17,
   "id": "15e6b95f-1642-436c-bb70-edc3c04f13fe",
   "metadata": {},
   "outputs": [
    {
     "name": "stdout",
     "output_type": "stream",
     "text": [
      "doing one shot maml accuracies now\n",
      "Time is 2023-08-24 14:43:21.111624, idx = 0\n",
      "Time is 2023-08-24 14:43:49.576817, idx = 8\n",
      "For LR = 0.01: [0.2125     0.61333333 0.66583333 0.69416667 0.69333333 0.68083333\n",
      " 0.67583333 0.66833333 0.66833333 0.65833333 0.66666667 0.6625\n",
      " 0.6675     0.65916667 0.65916667 0.66166667 0.665      0.6675\n",
      " 0.66583333 0.6675     0.66666667]\n",
      "doing scratch accuracies now\n",
      "Time is 2023-08-24 14:44:21.197443, idx = 0\n",
      "Time is 2023-08-24 14:44:48.854707, idx = 8\n",
      "For LR = 0.01: [0.2025     0.22916667 0.26583333 0.29916667 0.31833333 0.3525\n",
      " 0.36833333 0.37416667 0.3825     0.39833333 0.40666667 0.41333333\n",
      " 0.41333333 0.41666667 0.42       0.42166667 0.42083333 0.425\n",
      " 0.42666667 0.42666667 0.42916667]\n"
     ]
    }
   ],
   "source": [
    "import datetime\n",
    "\n",
    "lr_list = [0.01]\n",
    "\n",
    "print(\"doing one shot maml accuracies now\")\n",
    "one_shot_test_accuracies = {}\n",
    "\n",
    "for lr in lr_list:\n",
    "    models = []\n",
    "    models = [Learner(config, 1, 28, mb = 16) for _ in range(16)]\n",
    "    for i in range(16):\n",
    "        models[i].load_state_dict(torch.load('onn_birdcall.pth'))\n",
    "    test_accs = []\n",
    "    for idx in range(16): \n",
    "        if idx % 8 == 0:\n",
    "            print(f\"Time is {datetime.datetime.now()}, idx = {idx}\")\n",
    "        models[idx].eval()\n",
    "        optimizer = optim.SGD(models[idx].parameters(), lr=lr, momentum=0.9, nesterov=True)\n",
    "        test_accs.append(train(x_spt, y_spt, models[idx], optimizer, epochs = 20, idx = idx))\n",
    "    one_shot_test_accuracies[str(lr)] = np.average(np.array(test_accs), axis = 0)\n",
    "    print(f\"For LR = {lr}: {one_shot_test_accuracies[str(lr)]}\")\n",
    "\n",
    "print(\"doing scratch accuracies now\")\n",
    "scratch_test_accuracies = {}\n",
    "\n",
    "for lr in lr_list:\n",
    "    models = []\n",
    "    models = [Learner(config, 1, 28, mb = 16) for _ in range(16)]\n",
    "    test_accs = []\n",
    "    for idx in range(16):\n",
    "        if idx % 8 == 0:\n",
    "            print(f\"Time is {datetime.datetime.now()}, idx = {idx}\")\n",
    "        models[idx].eval()\n",
    "        optimizer = optim.SGD(models[idx].parameters(), lr=lr, momentum=0.9, nesterov=True)\n",
    "        test_accs.append(train(x_spt, y_spt, models[idx], optimizer, epochs = 20, idx = idx))\n",
    "    scratch_test_accuracies[str(lr)] = np.average(np.array(test_accs), axis = 0)\n",
    "    print(f\"For LR = {lr}: {scratch_test_accuracies[str(lr)]}\")"
   ]
  },
  {
   "cell_type": "code",
   "execution_count": 18,
   "id": "29e37f88-cbb5-4a7d-bc4b-950687bb1ed1",
   "metadata": {},
   "outputs": [
    {
     "ename": "KeyError",
     "evalue": "'0.003'",
     "output_type": "error",
     "traceback": [
      "\u001b[0;31m---------------------------------------------------------------------------\u001b[0m",
      "\u001b[0;31mKeyError\u001b[0m                                  Traceback (most recent call last)",
      "Cell \u001b[0;32mIn[18], line 3\u001b[0m\n\u001b[1;32m      1\u001b[0m \u001b[38;5;28;01mimport\u001b[39;00m \u001b[38;5;21;01mmatplotlib\u001b[39;00m\u001b[38;5;21;01m.\u001b[39;00m\u001b[38;5;21;01mpyplot\u001b[39;00m \u001b[38;5;28;01mas\u001b[39;00m \u001b[38;5;21;01mplt\u001b[39;00m\n\u001b[0;32m----> 3\u001b[0m y0 \u001b[38;5;241m=\u001b[39m \u001b[43mscratch_test_accuracies\u001b[49m\u001b[43m[\u001b[49m\u001b[38;5;28;43mstr\u001b[39;49m\u001b[43m(\u001b[49m\u001b[38;5;241;43m0.003\u001b[39;49m\u001b[43m)\u001b[49m\u001b[43m]\u001b[49m\n\u001b[1;32m      4\u001b[0m y1 \u001b[38;5;241m=\u001b[39m one_shot_test_accuracies[\u001b[38;5;28mstr\u001b[39m(\u001b[38;5;241m0.003\u001b[39m)]\n\u001b[1;32m      5\u001b[0m plt\u001b[38;5;241m.\u001b[39mplot(np\u001b[38;5;241m.\u001b[39marray(\u001b[38;5;28mlist\u001b[39m(\u001b[38;5;28mrange\u001b[39m(\u001b[38;5;241m0\u001b[39m, \u001b[38;5;28mlen\u001b[39m(y0)))), y0, label\u001b[38;5;241m=\u001b[39m\u001b[38;5;124m'\u001b[39m\u001b[38;5;124mTrained from Scratch\u001b[39m\u001b[38;5;124m'\u001b[39m, color\u001b[38;5;241m=\u001b[39m\u001b[38;5;124m'\u001b[39m\u001b[38;5;124mblue\u001b[39m\u001b[38;5;124m'\u001b[39m)\n",
      "\u001b[0;31mKeyError\u001b[0m: '0.003'"
     ]
    }
   ],
   "source": [
    "import matplotlib.pyplot as plt\n",
    "\n",
    "y0 = scratch_test_accuracies[str(0.003)]\n",
    "y1 = one_shot_test_accuracies[str(0.003)]\n",
    "plt.plot(np.array(list(range(0, len(y0)))), y0, label='Trained from Scratch', color='blue')\n",
    "plt.plot(np.array(list(range(0,len(y1)))), y1, label='Pretrained with Metalearning', color='orange')\n",
    "\n",
    "# Customize the plot\n",
    "plt.xlabel('Number of Iterations of Training')\n",
    "plt.ylabel('Test Classification Accuracy')\n",
    "plt.title('Ten Shot Bird Call Classification: \\nComparing Metalearned ONN vs. Randomly Initialized ONN')\n",
    "plt.grid(True)\n",
    "plt.legend()\n",
    "plt.savefig('onn_ten_shot_birdcall_metalearning_comparison_lr=0.003.jpg', format='jpg')\n",
    "plt.show()"
   ]
  },
  {
   "cell_type": "code",
   "execution_count": null,
   "id": "9305c374-ddb8-47ab-93ec-e95ab6d8a3f8",
   "metadata": {},
   "outputs": [],
   "source": []
  }
 ],
 "metadata": {
  "kernelspec": {
   "display_name": "phox_venv",
   "language": "python",
   "name": "phox_venv"
  },
  "language_info": {
   "codemirror_mode": {
    "name": "ipython",
    "version": 3
   },
   "file_extension": ".py",
   "mimetype": "text/x-python",
   "name": "python",
   "nbconvert_exporter": "python",
   "pygments_lexer": "ipython3",
   "version": "3.10.12"
  }
 },
 "nbformat": 4,
 "nbformat_minor": 5
}
