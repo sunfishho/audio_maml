{
 "cells": [
  {
   "cell_type": "code",
   "execution_count": 19,
   "id": "44c0e935-00f5-4268-bcdd-36d265c1b3d3",
   "metadata": {},
   "outputs": [],
   "source": [
    "from learner import Learner\n",
    "\n",
    "import os\n",
    "\n",
    "import warnings\n",
    "warnings.filterwarnings(action='ignore')\n",
    "\n",
    "import pandas as pd\n",
    "import librosa\n",
    "import numpy as np\n",
    "import torch\n",
    "from PIL import Image\n",
    "from sklearn.utils import shuffle\n",
    "from tqdm import tqdm\n",
    "from copy import deepcopy\n",
    "import matplotlib.pyplot as plt\n",
    "import torch.nn as nn\n",
    "import torch.optim as optim\n",
    "import torch.nn.functional as F\n",
    "import random"
   ]
  },
  {
   "cell_type": "code",
   "execution_count": 20,
   "id": "5e672a23-55cb-4c33-b27e-2117ba8c460a",
   "metadata": {},
   "outputs": [],
   "source": [
    "config = [\n",
    "    ('conv2d', [32, 1, 7, 7, 1, 3]),\n",
    "    ('relu', [True]),\n",
    "    ('bn', [32]),\n",
    "    ('conv2d', [16, 32, 5, 5, 1, 2]),\n",
    "    ('relu', [True]),\n",
    "    ('bn', [16]),\n",
    "    ('conv2d', [8, 16, 3, 3, 1, 1]),\n",
    "    ('relu', [True]),\n",
    "    ('bn', [8]),\n",
    "    ('flatten', []),\n",
    "    ('linear', [5, 8 * 28 * 28])\n",
    "]"
   ]
  },
  {
   "cell_type": "code",
   "execution_count": 28,
   "id": "2eede263-a977-4a56-b9a8-d5330ae6616f",
   "metadata": {},
   "outputs": [
    {
     "name": "stdout",
     "output_type": "stream",
     "text": [
      "DB: train (99, 100, 28, 28, 1) test (33, 100, 28, 28, 1)\n"
     ]
    }
   ],
   "source": [
    "from birdCallNShot import BirdCallNShot\n",
    "\n",
    "db_train = BirdCallNShot('birdCall',\n",
    "                       batchsz=32,\n",
    "                       n_way=5,\n",
    "                       k_shot=1,\n",
    "                       k_query=15,\n",
    "                       SPEC_SHAPE = (28,28))"
   ]
  },
  {
   "cell_type": "code",
   "execution_count": 29,
   "id": "9e510a8d-7c18-4445-8dbb-11473012e6b9",
   "metadata": {},
   "outputs": [],
   "source": [
    "x_spt, y_spt, x_qry, y_qry = map(lambda x: torch.from_numpy(x).to(torch.device('cpu')), db_train.next())\n",
    "device = torch.device('cpu')"
   ]
  },
  {
   "cell_type": "code",
   "execution_count": 30,
   "id": "3d9c0a12-5db9-4e69-9f89-3bab21769a78",
   "metadata": {},
   "outputs": [],
   "source": [
    "def check_accuracy(data, labels, model, idx = 0):\n",
    "    # print('Checking accuracy on set')   \n",
    "    num_correct = 0\n",
    "    num_samples = 0\n",
    "    num_data_points = data.shape[0]\n",
    "    \n",
    "    model.eval()  # set model to evaluation mode\n",
    "    with torch.no_grad():\n",
    "        x, y = data[idx], labels[idx]\n",
    "        x = x.to(device=torch.device(\"cpu\"), dtype=torch.float32)  # move to device, e.g. GPU\n",
    "        y = y.to(device=torch.device(\"cpu\"), dtype=torch.long)\n",
    "        scores = model(x)\n",
    "        _, preds = scores.max(1)\n",
    "        num_correct += (preds == y).sum()\n",
    "        num_samples += preds.size(0)\n",
    "        acc = float(num_correct) / num_samples\n",
    "        # print('Got %d / %d correct (%.2f)' % (num_correct, num_samples, 100 * acc))\n",
    "        return acc\n",
    "        \n",
    "def train(data, labels, model, optimizer, epochs=50, idx = 0):\n",
    "    model = model.to(device=torch.device(\"cpu\"))  # move the model parameters to CPU/GPU    \n",
    "    test_accuracies = [check_accuracy(x_qry, y_qry, model, idx)]\n",
    "    for e in range(epochs):\n",
    "        # print(f\"Epoch number: {e}\")\n",
    "        x, y = data[idx], labels[idx]\n",
    "        model.train()  # put model to training mode\n",
    "        x = x.to(device=device, dtype=torch.float32)  # move to device, e.g. GPU\n",
    "        y = y.to(device=device, dtype=torch.long)\n",
    "\n",
    "        scores = model(x)\n",
    "        loss = F.cross_entropy(scores, y)\n",
    "\n",
    "        # Zero out all of the gradients for the variables which the optimizer\n",
    "        # will update.\n",
    "        optimizer.zero_grad()\n",
    "\n",
    "        # This is the backwards pass: compute the gradient of the loss with\n",
    "        # respect to each  parameter of the model.\n",
    "        loss.backward()\n",
    "\n",
    "        # Actually update the parameters of the model using the gradients\n",
    "        # computed by the backwards pass.\n",
    "        \n",
    "        param_idx = 0\n",
    "        \n",
    "        for name, param in model.config:\n",
    "            if name == 'conv2d' or name == 'linear':\n",
    "                # project U to unitary\n",
    "                with torch.no_grad():\n",
    "                    model.parameters()[param_idx].copy_(project_matrix_to_unitary(model.parameters()[param_idx]))\n",
    "                    model.parameters()[param_idx + 2].copy_(project_matrix_to_unitary(model.parameters()[param_idx + 2]))\n",
    "                param_idx += 4\n",
    "            elif name == 'bn':\n",
    "                param_idx += 2\n",
    "        \n",
    "        optimizer.step()\n",
    "\n",
    "        param_idx = 0\n",
    "        \n",
    "        test_accuracies.append(check_accuracy(x_qry, y_qry, model, idx))\n",
    "    return test_accuracies"
   ]
  },
  {
   "cell_type": "code",
   "execution_count": 32,
   "id": "15e6b95f-1642-436c-bb70-edc3c04f13fe",
   "metadata": {},
   "outputs": [
    {
     "name": "stdout",
     "output_type": "stream",
     "text": [
      "doing one shot maml accuracies now\n",
      "Time is 2023-08-25 13:46:02.764063, idx = 0\n",
      "Time is 2023-08-25 13:46:10.428054, idx = 8\n",
      "For LR = 0.01: [0.19       0.46083333 0.47833333 0.485      0.48666667 0.4875\n",
      " 0.485      0.48333333 0.48416667 0.48333333 0.48416667 0.48333333\n",
      " 0.4825     0.4775     0.4775     0.47583333 0.47583333 0.47583333\n",
      " 0.47666667 0.47666667 0.47583333]\n",
      "doing scratch accuracies now\n",
      "Time is 2023-08-25 13:46:18.412438, idx = 0\n",
      "Time is 2023-08-25 13:46:26.032121, idx = 8\n",
      "For LR = 0.01: [0.225      0.23583333 0.24916667 0.24916667 0.24916667 0.25\n",
      " 0.2525     0.2525     0.25583333 0.25833333 0.2575     0.25666667\n",
      " 0.2575     0.25666667 0.25583333 0.25583333 0.255      0.255\n",
      " 0.25416667 0.25416667 0.25416667]\n"
     ]
    }
   ],
   "source": [
    "import datetime\n",
    "from torchonn.op.mzi_op import project_matrix_to_unitary\n",
    "\n",
    "lr_list = [0.01]\n",
    "\n",
    "print(\"doing one shot maml accuracies now\")\n",
    "one_shot_test_accuracies = {}\n",
    "\n",
    "for lr in lr_list:\n",
    "    models = []\n",
    "    models = [Learner(config, 1, 28, mb = 16) for _ in range(16)]\n",
    "    for i in range(16):\n",
    "        # is trained with 1-shot but the dataset we're using right now is 10-shot\n",
    "        models[i].load_state_dict(torch.load('onn_birdcall.pth'))\n",
    "    test_accs = []\n",
    "    for idx in range(16): \n",
    "        if idx % 8 == 0:\n",
    "            print(f\"Time is {datetime.datetime.now()}, idx = {idx}\")\n",
    "        models[idx].eval()\n",
    "        optimizer = optim.SGD(models[idx].parameters(), lr=lr, momentum=0.9, nesterov=True)\n",
    "        test_accs.append(train(x_spt, y_spt, models[idx], optimizer, epochs = 20, idx = idx))\n",
    "    one_shot_test_accuracies[str(lr)] = np.average(np.array(test_accs), axis = 0)\n",
    "    print(f\"For LR = {lr}: {one_shot_test_accuracies[str(lr)]}\")\n",
    "\n",
    "print(\"doing scratch accuracies now\")\n",
    "scratch_test_accuracies = {}\n",
    "\n",
    "for lr in lr_list:\n",
    "    models = []\n",
    "    models = [Learner(config, 1, 28, mb = 16) for _ in range(16)]\n",
    "    test_accs = []\n",
    "    for idx in range(16):\n",
    "        if idx % 8 == 0:\n",
    "            print(f\"Time is {datetime.datetime.now()}, idx = {idx}\")\n",
    "        models[idx].eval()\n",
    "        optimizer = optim.SGD(models[idx].parameters(), lr=lr, momentum=0.9, nesterov=True)\n",
    "        test_accs.append(train(x_spt, y_spt, models[idx], optimizer, epochs = 20, idx = idx))\n",
    "    scratch_test_accuracies[str(lr)] = np.average(np.array(test_accs), axis = 0)\n",
    "    print(f\"For LR = {lr}: {scratch_test_accuracies[str(lr)]}\")"
   ]
  },
  {
   "cell_type": "code",
   "execution_count": 33,
   "id": "29e37f88-cbb5-4a7d-bc4b-950687bb1ed1",
   "metadata": {},
   "outputs": [
    {
     "data": {
      "image/png": "[encoded data removed]",
      "text/plain": [
       "<Figure size 640x480 with 1 Axes>"
      ]
     },
     "metadata": {},
     "output_type": "display_data"
    }
   ],
   "source": [
    "import matplotlib.pyplot as plt\n",
    "\n",
    "y0 = scratch_test_accuracies[str(0.01)]\n",
    "y1 = one_shot_test_accuracies[str(0.01)]\n",
    "plt.plot(np.array(list(range(0, len(y0)))), y0, label='Trained from Scratch', color='blue')\n",
    "plt.plot(np.array(list(range(0,len(y1)))), y1, label='Pretrained with Metalearning', color='orange')\n",
    "\n",
    "# Customize the plot\n",
    "plt.xlabel('Number of Iterations of Training')\n",
    "plt.ylabel('Test Classification Accuracy')\n",
    "plt.title('One Shot Bird Call Classification: \\nComparing Metalearned ONN vs. Randomly Initialized ONN')\n",
    "plt.grid(True)\n",
    "plt.legend()\n",
    "plt.savefig('onn_one_shot_birdcall_metalearning_comparison_lr=0.01.jpg', format='jpg')\n",
    "plt.show()"
   ]
  },
  {
   "cell_type": "code",
   "execution_count": 36,
   "id": "79db114a-efd8-4cdf-ac5a-9625fbb4e3a4",
   "metadata": {},
   "outputs": [
    {
     "data": {
      "text/plain": [
       "tensor([[ 1.0002e+00, -9.6396e-05, -1.6627e-04, -1.7223e-04, -8.2491e-05,\n",
       "          2.8892e-05, -6.1956e-07, -7.6538e-05, -1.2493e-04,  5.5769e-05,\n",
       "          6.6776e-05,  8.1873e-05,  4.2157e-05,  1.7924e-05, -8.8309e-05,\n",
       "          1.4226e-04],\n",
       "        [-9.6396e-05,  9.9989e-01, -8.0362e-05, -9.9241e-05, -5.4932e-05,\n",
       "         -1.0159e-04, -1.3445e-04, -2.0401e-04, -5.7917e-06,  1.6076e-04,\n",
       "          6.5170e-05, -1.2777e-05,  8.1525e-05, -3.5829e-04, -4.6657e-05,\n",
       "         -2.6291e-04],\n",
       "        [-1.6627e-04, -8.0362e-05,  1.0002e+00,  4.3581e-06,  3.2874e-05,\n",
       "         -1.5428e-04,  9.2323e-05,  3.6913e-05, -2.8816e-04,  2.9248e-05,\n",
       "          8.9135e-05,  1.9455e-04, -6.2733e-05,  2.2801e-04,  2.1855e-05,\n",
       "         -2.0155e-04],\n",
       "        [-1.7223e-04, -9.9241e-05,  4.3581e-06,  9.9963e-01,  1.5160e-04,\n",
       "         -1.7712e-04,  9.6012e-05,  2.4488e-04, -1.3618e-04, -1.1232e-04,\n",
       "         -2.7264e-05,  1.6511e-04, -6.9168e-05,  2.2623e-04, -4.2275e-05,\n",
       "          1.0320e-04],\n",
       "        [-8.2491e-05, -5.4932e-05,  3.2874e-05,  1.5160e-04,  1.0000e+00,\n",
       "         -2.4594e-04, -1.1533e-05, -5.0656e-05,  9.2120e-05,  3.7094e-05,\n",
       "          2.0557e-05,  5.1144e-05,  3.8528e-05, -1.8422e-04,  3.6628e-04,\n",
       "         -1.7289e-04],\n",
       "        [ 2.8892e-05, -1.0159e-04, -1.5428e-04, -1.7712e-04, -2.4594e-04,\n",
       "          9.9988e-01, -1.0740e-04, -2.0080e-04, -8.1050e-05,  4.8919e-05,\n",
       "          2.8785e-04, -1.6925e-04,  5.6198e-05, -3.4317e-04, -3.9845e-04,\n",
       "         -2.8977e-04],\n",
       "        [-6.1956e-07, -1.3445e-04,  9.2323e-05,  9.6012e-05, -1.1533e-05,\n",
       "         -1.0740e-04,  9.9991e-01, -3.7098e-06,  4.7351e-04,  4.7061e-05,\n",
       "          1.0571e-04, -1.9918e-05, -2.0608e-05, -1.6957e-04,  1.3681e-04,\n",
       "          1.3527e-04],\n",
       "        [-7.6538e-05, -2.0401e-04,  3.6913e-05,  2.4488e-04, -5.0656e-05,\n",
       "         -2.0080e-04, -3.7098e-06,  9.9975e-01,  2.1039e-04,  6.4846e-05,\n",
       "          7.8529e-05, -1.1846e-04,  3.0814e-05, -5.1175e-04,  5.7440e-04,\n",
       "         -3.5390e-04],\n",
       "        [-1.2493e-04, -5.7917e-06, -2.8816e-04, -1.3618e-04,  9.2120e-05,\n",
       "         -8.1050e-05,  4.7351e-04,  2.1039e-04,  9.9998e-01, -2.2178e-04,\n",
       "          2.6702e-06,  9.0455e-06, -8.9050e-05,  4.6471e-05, -3.5682e-04,\n",
       "         -5.2811e-05],\n",
       "        [ 5.5769e-05,  1.6076e-04,  2.9248e-05, -1.1232e-04,  3.7094e-05,\n",
       "          4.8919e-05,  4.7061e-05,  6.4846e-05, -2.2178e-04,  1.0000e+00,\n",
       "          4.6222e-05,  9.9417e-05,  1.9932e-07,  1.8704e-04, -7.1497e-05,\n",
       "          1.3901e-06],\n",
       "        [ 6.6776e-05,  6.5170e-05,  8.9135e-05, -2.7264e-05,  2.0557e-05,\n",
       "          2.8785e-04,  1.0571e-04,  7.8529e-05,  2.6702e-06,  4.6222e-05,\n",
       "          1.0000e+00, -3.8530e-05, -2.2906e-05,  3.3502e-04, -5.5660e-05,\n",
       "          2.1487e-04],\n",
       "        [ 8.1873e-05, -1.2777e-05,  1.9455e-04,  1.6511e-04,  5.1144e-05,\n",
       "         -1.6925e-04, -1.9918e-05, -1.1846e-04,  9.0455e-06,  9.9417e-05,\n",
       "         -3.8530e-05,  1.0000e+00, -5.2279e-05,  3.5392e-05,  1.9857e-04,\n",
       "         -1.6649e-04],\n",
       "        [ 4.2157e-05,  8.1525e-05, -6.2733e-05, -6.9168e-05,  3.8528e-05,\n",
       "          5.6198e-05, -2.0608e-05,  3.0814e-05, -8.9050e-05,  1.9932e-07,\n",
       "         -2.2906e-05, -5.2279e-05,  1.0000e+00,  9.7283e-05,  1.4582e-04,\n",
       "          4.5818e-05],\n",
       "        [ 1.7924e-05, -3.5829e-04,  2.2801e-04,  2.2623e-04, -1.8422e-04,\n",
       "         -3.4317e-04, -1.6957e-04, -5.1175e-04,  4.6471e-05,  1.8704e-04,\n",
       "          3.3502e-04,  3.5392e-05,  9.7283e-05,  9.9981e-01,  6.3533e-05,\n",
       "         -3.2025e-04],\n",
       "        [-8.8309e-05, -4.6657e-05,  2.1855e-05, -4.2275e-05,  3.6628e-04,\n",
       "         -3.9845e-04,  1.3681e-04,  5.7440e-04, -3.5682e-04, -7.1497e-05,\n",
       "         -5.5660e-05,  1.9857e-04,  1.4582e-04,  6.3533e-05,  1.0001e+00,\n",
       "          6.2734e-05],\n",
       "        [ 1.4226e-04, -2.6291e-04, -2.0155e-04,  1.0320e-04, -1.7289e-04,\n",
       "         -2.8977e-04,  1.3527e-04, -3.5390e-04, -5.2811e-05,  1.3901e-06,\n",
       "          2.1487e-04, -1.6649e-04,  4.5818e-05, -3.2025e-04,  6.2734e-05,\n",
       "          9.9985e-01]], grad_fn=<MmBackward0>)"
      ]
     },
     "execution_count": 36,
     "metadata": {},
     "output_type": "execute_result"
    }
   ],
   "source": [
    "models[0].parameters()[0][0][0] @ models[0].parameters()[0][0][0].T"
   ]
  },
  {
   "cell_type": "code",
   "execution_count": null,
   "id": "ecad530f-e5bd-4ac0-ad7d-f9624814d3cd",
   "metadata": {},
   "outputs": [],
   "source": []
  }
 ],
 "metadata": {
  "kernelspec": {
   "display_name": "phox_venv",
   "language": "python",
   "name": "phox_venv"
  },
  "language_info": {
   "codemirror_mode": {
    "name": "ipython",
    "version": 3
   },
   "file_extension": ".py",
   "mimetype": "text/x-python",
   "name": "python",
   "nbconvert_exporter": "python",
   "pygments_lexer": "ipython3",
   "version": "3.10.12"
  }
 },
 "nbformat": 4,
 "nbformat_minor": 5
}
